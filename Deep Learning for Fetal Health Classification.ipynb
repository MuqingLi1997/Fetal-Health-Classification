{
 "cells": [
  {
   "cell_type": "code",
   "execution_count": 1,
   "id": "cb5f1bc7",
   "metadata": {},
   "outputs": [],
   "source": [
    "import sklearn\n",
    "import pandas as pd\n",
    "import numpy as np\n",
    "import matplotlib.pyplot as plt\n",
    "import seaborn as sns\n",
    "import random\n",
    "from sklearn.preprocessing import LabelEncoder\n",
    "from sklearn.model_selection import train_test_split"
   ]
  },
  {
   "cell_type": "code",
   "execution_count": 2,
   "id": "16cf2ba8",
   "metadata": {},
   "outputs": [],
   "source": [
    "import tensorflow as tf\n",
    "from tensorflow.keras.models import Sequential\n",
    "from tensorflow.keras.layers import Dense, Dropout\n",
    "from sklearn.preprocessing import LabelEncoder"
   ]
  },
  {
   "cell_type": "code",
   "execution_count": 3,
   "id": "b7e4b8af",
   "metadata": {},
   "outputs": [],
   "source": [
    "#Load Fetal Health Data\n",
    "fetal_health=pd.read_csv('fetal_health.csv')"
   ]
  },
  {
   "cell_type": "code",
   "execution_count": 4,
   "id": "1b1ef85f",
   "metadata": {},
   "outputs": [
    {
     "data": {
      "text/html": [
       "<div>\n",
       "<style scoped>\n",
       "    .dataframe tbody tr th:only-of-type {\n",
       "        vertical-align: middle;\n",
       "    }\n",
       "\n",
       "    .dataframe tbody tr th {\n",
       "        vertical-align: top;\n",
       "    }\n",
       "\n",
       "    .dataframe thead th {\n",
       "        text-align: right;\n",
       "    }\n",
       "</style>\n",
       "<table border=\"1\" class=\"dataframe\">\n",
       "  <thead>\n",
       "    <tr style=\"text-align: right;\">\n",
       "      <th></th>\n",
       "      <th>baseline value</th>\n",
       "      <th>accelerations</th>\n",
       "      <th>fetal_movement</th>\n",
       "      <th>uterine_contractions</th>\n",
       "      <th>light_decelerations</th>\n",
       "      <th>severe_decelerations</th>\n",
       "      <th>prolongued_decelerations</th>\n",
       "      <th>abnormal_short_term_variability</th>\n",
       "      <th>mean_value_of_short_term_variability</th>\n",
       "      <th>percentage_of_time_with_abnormal_long_term_variability</th>\n",
       "      <th>...</th>\n",
       "      <th>histogram_min</th>\n",
       "      <th>histogram_max</th>\n",
       "      <th>histogram_number_of_peaks</th>\n",
       "      <th>histogram_number_of_zeroes</th>\n",
       "      <th>histogram_mode</th>\n",
       "      <th>histogram_mean</th>\n",
       "      <th>histogram_median</th>\n",
       "      <th>histogram_variance</th>\n",
       "      <th>histogram_tendency</th>\n",
       "      <th>fetal_health</th>\n",
       "    </tr>\n",
       "  </thead>\n",
       "  <tbody>\n",
       "    <tr>\n",
       "      <th>0</th>\n",
       "      <td>120.0</td>\n",
       "      <td>0.000</td>\n",
       "      <td>0.0</td>\n",
       "      <td>0.000</td>\n",
       "      <td>0.000</td>\n",
       "      <td>0.0</td>\n",
       "      <td>0.0</td>\n",
       "      <td>73.0</td>\n",
       "      <td>0.5</td>\n",
       "      <td>43.0</td>\n",
       "      <td>...</td>\n",
       "      <td>62.0</td>\n",
       "      <td>126.0</td>\n",
       "      <td>2.0</td>\n",
       "      <td>0.0</td>\n",
       "      <td>120.0</td>\n",
       "      <td>137.0</td>\n",
       "      <td>121.0</td>\n",
       "      <td>73.0</td>\n",
       "      <td>1.0</td>\n",
       "      <td>2.0</td>\n",
       "    </tr>\n",
       "    <tr>\n",
       "      <th>1</th>\n",
       "      <td>132.0</td>\n",
       "      <td>0.006</td>\n",
       "      <td>0.0</td>\n",
       "      <td>0.006</td>\n",
       "      <td>0.003</td>\n",
       "      <td>0.0</td>\n",
       "      <td>0.0</td>\n",
       "      <td>17.0</td>\n",
       "      <td>2.1</td>\n",
       "      <td>0.0</td>\n",
       "      <td>...</td>\n",
       "      <td>68.0</td>\n",
       "      <td>198.0</td>\n",
       "      <td>6.0</td>\n",
       "      <td>1.0</td>\n",
       "      <td>141.0</td>\n",
       "      <td>136.0</td>\n",
       "      <td>140.0</td>\n",
       "      <td>12.0</td>\n",
       "      <td>0.0</td>\n",
       "      <td>1.0</td>\n",
       "    </tr>\n",
       "    <tr>\n",
       "      <th>2</th>\n",
       "      <td>133.0</td>\n",
       "      <td>0.003</td>\n",
       "      <td>0.0</td>\n",
       "      <td>0.008</td>\n",
       "      <td>0.003</td>\n",
       "      <td>0.0</td>\n",
       "      <td>0.0</td>\n",
       "      <td>16.0</td>\n",
       "      <td>2.1</td>\n",
       "      <td>0.0</td>\n",
       "      <td>...</td>\n",
       "      <td>68.0</td>\n",
       "      <td>198.0</td>\n",
       "      <td>5.0</td>\n",
       "      <td>1.0</td>\n",
       "      <td>141.0</td>\n",
       "      <td>135.0</td>\n",
       "      <td>138.0</td>\n",
       "      <td>13.0</td>\n",
       "      <td>0.0</td>\n",
       "      <td>1.0</td>\n",
       "    </tr>\n",
       "  </tbody>\n",
       "</table>\n",
       "<p>3 rows × 22 columns</p>\n",
       "</div>"
      ],
      "text/plain": [
       "   baseline value  accelerations  fetal_movement  uterine_contractions   \n",
       "0           120.0          0.000             0.0                 0.000  \\\n",
       "1           132.0          0.006             0.0                 0.006   \n",
       "2           133.0          0.003             0.0                 0.008   \n",
       "\n",
       "   light_decelerations  severe_decelerations  prolongued_decelerations   \n",
       "0                0.000                   0.0                       0.0  \\\n",
       "1                0.003                   0.0                       0.0   \n",
       "2                0.003                   0.0                       0.0   \n",
       "\n",
       "   abnormal_short_term_variability  mean_value_of_short_term_variability   \n",
       "0                             73.0                                   0.5  \\\n",
       "1                             17.0                                   2.1   \n",
       "2                             16.0                                   2.1   \n",
       "\n",
       "   percentage_of_time_with_abnormal_long_term_variability  ...  histogram_min   \n",
       "0                                               43.0       ...           62.0  \\\n",
       "1                                                0.0       ...           68.0   \n",
       "2                                                0.0       ...           68.0   \n",
       "\n",
       "   histogram_max  histogram_number_of_peaks  histogram_number_of_zeroes   \n",
       "0          126.0                        2.0                         0.0  \\\n",
       "1          198.0                        6.0                         1.0   \n",
       "2          198.0                        5.0                         1.0   \n",
       "\n",
       "   histogram_mode  histogram_mean  histogram_median  histogram_variance   \n",
       "0           120.0           137.0             121.0                73.0  \\\n",
       "1           141.0           136.0             140.0                12.0   \n",
       "2           141.0           135.0             138.0                13.0   \n",
       "\n",
       "   histogram_tendency  fetal_health  \n",
       "0                 1.0           2.0  \n",
       "1                 0.0           1.0  \n",
       "2                 0.0           1.0  \n",
       "\n",
       "[3 rows x 22 columns]"
      ]
     },
     "execution_count": 4,
     "metadata": {},
     "output_type": "execute_result"
    }
   ],
   "source": [
    "fetal_health.head(3)"
   ]
  },
  {
   "cell_type": "code",
   "execution_count": 5,
   "id": "897b388f",
   "metadata": {},
   "outputs": [],
   "source": [
    "X = fetal_health.drop('fetal_health', axis=1)\n",
    "y = fetal_health['fetal_health']"
   ]
  },
  {
   "cell_type": "code",
   "execution_count": 6,
   "id": "5e5e3f9b",
   "metadata": {},
   "outputs": [],
   "source": [
    "# Encode the target variable\n",
    "encoder = LabelEncoder()\n",
    "y_encoded = encoder.fit_transform(y)"
   ]
  },
  {
   "cell_type": "code",
   "execution_count": 7,
   "id": "7d9e86c1",
   "metadata": {},
   "outputs": [],
   "source": [
    "# Splitting the dataset into training and testing sets\n",
    "X_train, X_test, y_train, y_test = train_test_split(X, y_encoded, test_size=0.2, random_state=42)\n"
   ]
  },
  {
   "cell_type": "code",
   "execution_count": 23,
   "id": "5bb54c8d",
   "metadata": {},
   "outputs": [],
   "source": [
    "# I will use 'SMOTE' to figure out this situation. the SMOTE module provides the Synthetic Minority Over-sampling Technique (SMOTE) algorithm for generating synthetic samples of the minority class in an imbalanced dataset.\n",
    "from imblearn.over_sampling import SMOTE"
   ]
  },
  {
   "cell_type": "code",
   "execution_count": 25,
   "id": "1d462084",
   "metadata": {},
   "outputs": [
    {
     "name": "stdout",
     "output_type": "stream",
     "text": [
      "Class distribution before resampling:\n",
      "{0: 1322, 1: 231, 2: 147}\n",
      "Class distribution after resampling:\n",
      "{0: 1322, 1: 1322, 2: 1322}\n"
     ]
    }
   ],
   "source": [
    "# use 'SMOTE' modify x and y\n",
    "# Instantiate SMOTE\n",
    "sm = SMOTE(random_state=42)\n",
    "\n",
    "# Fit SMOTE to training data\n",
    "X_train_res, y_train_res = sm.fit_resample(X_train, y_train)\n",
    "\n",
    "# Print class distribution of original and resampled data\n",
    "print('Class distribution before resampling:')\n",
    "unique, counts = np.unique(y_train, return_counts=True)\n",
    "print(dict(zip(unique, counts)))\n",
    "\n",
    "print('Class distribution after resampling:')\n",
    "unique, counts = np.unique(y_train_res, return_counts=True)\n",
    "print(dict(zip(unique, counts)))"
   ]
  },
  {
   "cell_type": "code",
   "execution_count": 26,
   "id": "c566d2bb",
   "metadata": {},
   "outputs": [],
   "source": [
    "# Standardizing the data (scaling)\n",
    "from sklearn.preprocessing import StandardScaler"
   ]
  },
  {
   "cell_type": "code",
   "execution_count": 28,
   "id": "90732739",
   "metadata": {},
   "outputs": [],
   "source": [
    "\n",
    "scaler = StandardScaler()\n",
    "X_train_scaled = scaler.fit_transform(X_train_res)\n",
    "X_test_scaled = scaler.transform(X_test)"
   ]
  },
  {
   "cell_type": "code",
   "execution_count": 29,
   "id": "935a935d",
   "metadata": {},
   "outputs": [],
   "source": [
    "# Creating the deep learning model\n",
    "model = Sequential()\n",
    "model.add(Dense(64, activation='relu', input_shape=(X_train_scaled.shape[1],)))\n",
    "model.add(Dropout(0.5))\n",
    "model.add(Dense(32, activation='relu'))\n",
    "model.add(Dropout(0.5))\n",
    "model.add(Dense(3, activation='softmax'))  # 3 output classes"
   ]
  },
  {
   "cell_type": "code",
   "execution_count": 30,
   "id": "5d4404ff",
   "metadata": {},
   "outputs": [
    {
     "name": "stdout",
     "output_type": "stream",
     "text": [
      "Epoch 1/50\n",
      "124/124 [==============================] - 1s 9ms/step - loss: 0.8477 - accuracy: 0.6233\n",
      "Epoch 2/50\n",
      "124/124 [==============================] - 1s 8ms/step - loss: 0.5308 - accuracy: 0.8069\n",
      "Epoch 3/50\n",
      "124/124 [==============================] - 1s 7ms/step - loss: 0.4192 - accuracy: 0.8497\n",
      "Epoch 4/50\n",
      "124/124 [==============================] - 1s 7ms/step - loss: 0.3625 - accuracy: 0.8606\n",
      "Epoch 5/50\n",
      "124/124 [==============================] - 1s 8ms/step - loss: 0.3283 - accuracy: 0.8742\n",
      "Epoch 6/50\n",
      "124/124 [==============================] - 1s 8ms/step - loss: 0.3109 - accuracy: 0.8835\n",
      "Epoch 7/50\n",
      "124/124 [==============================] - 1s 7ms/step - loss: 0.2749 - accuracy: 0.8994\n",
      "Epoch 8/50\n",
      "124/124 [==============================] - 1s 8ms/step - loss: 0.2685 - accuracy: 0.9034\n",
      "Epoch 9/50\n",
      "124/124 [==============================] - 1s 7ms/step - loss: 0.2498 - accuracy: 0.9037\n",
      "Epoch 10/50\n",
      "124/124 [==============================] - 1s 7ms/step - loss: 0.2443 - accuracy: 0.9105\n",
      "Epoch 11/50\n",
      "124/124 [==============================] - 1s 7ms/step - loss: 0.2385 - accuracy: 0.9097\n",
      "Epoch 12/50\n",
      "124/124 [==============================] - 1s 7ms/step - loss: 0.2284 - accuracy: 0.9231\n",
      "Epoch 13/50\n",
      "124/124 [==============================] - 1s 8ms/step - loss: 0.2204 - accuracy: 0.9211\n",
      "Epoch 14/50\n",
      "124/124 [==============================] - 1s 7ms/step - loss: 0.2062 - accuracy: 0.9213\n",
      "Epoch 15/50\n",
      "124/124 [==============================] - 1s 7ms/step - loss: 0.2047 - accuracy: 0.9261\n",
      "Epoch 16/50\n",
      "124/124 [==============================] - 1s 7ms/step - loss: 0.1941 - accuracy: 0.9291\n",
      "Epoch 17/50\n",
      "124/124 [==============================] - 1s 7ms/step - loss: 0.1872 - accuracy: 0.9324\n",
      "Epoch 18/50\n",
      "124/124 [==============================] - 1s 7ms/step - loss: 0.1787 - accuracy: 0.9372\n",
      "Epoch 19/50\n",
      "124/124 [==============================] - 1s 7ms/step - loss: 0.1794 - accuracy: 0.9420\n",
      "Epoch 20/50\n",
      "124/124 [==============================] - 1s 8ms/step - loss: 0.1736 - accuracy: 0.9387\n",
      "Epoch 21/50\n",
      "124/124 [==============================] - 1s 7ms/step - loss: 0.1716 - accuracy: 0.9400\n",
      "Epoch 22/50\n",
      "124/124 [==============================] - 1s 7ms/step - loss: 0.1676 - accuracy: 0.9418\n",
      "Epoch 23/50\n",
      "124/124 [==============================] - 1s 7ms/step - loss: 0.1623 - accuracy: 0.9433\n",
      "Epoch 24/50\n",
      "124/124 [==============================] - 1s 7ms/step - loss: 0.1631 - accuracy: 0.9433\n",
      "Epoch 25/50\n",
      "124/124 [==============================] - 1s 7ms/step - loss: 0.1621 - accuracy: 0.9402\n",
      "Epoch 26/50\n",
      "124/124 [==============================] - 1s 7ms/step - loss: 0.1489 - accuracy: 0.9491\n",
      "Epoch 27/50\n",
      "124/124 [==============================] - 1s 7ms/step - loss: 0.1471 - accuracy: 0.9511\n",
      "Epoch 28/50\n",
      "124/124 [==============================] - 1s 7ms/step - loss: 0.1525 - accuracy: 0.9488\n",
      "Epoch 29/50\n",
      "124/124 [==============================] - 1s 7ms/step - loss: 0.1495 - accuracy: 0.9486\n",
      "Epoch 30/50\n",
      "124/124 [==============================] - 1s 7ms/step - loss: 0.1451 - accuracy: 0.9491\n",
      "Epoch 31/50\n",
      "124/124 [==============================] - 1s 7ms/step - loss: 0.1371 - accuracy: 0.9549\n",
      "Epoch 32/50\n",
      "124/124 [==============================] - 1s 7ms/step - loss: 0.1388 - accuracy: 0.9539\n",
      "Epoch 33/50\n",
      "124/124 [==============================] - 1s 7ms/step - loss: 0.1377 - accuracy: 0.9534\n",
      "Epoch 34/50\n",
      "124/124 [==============================] - 1s 7ms/step - loss: 0.1336 - accuracy: 0.9541\n",
      "Epoch 35/50\n",
      "124/124 [==============================] - 1s 7ms/step - loss: 0.1274 - accuracy: 0.9607\n",
      "Epoch 36/50\n",
      "124/124 [==============================] - 1s 7ms/step - loss: 0.1321 - accuracy: 0.9523\n",
      "Epoch 37/50\n",
      "124/124 [==============================] - 1s 7ms/step - loss: 0.1277 - accuracy: 0.9528\n",
      "Epoch 38/50\n",
      "124/124 [==============================] - 1s 7ms/step - loss: 0.1273 - accuracy: 0.9559\n",
      "Epoch 39/50\n",
      "124/124 [==============================] - 1s 7ms/step - loss: 0.1266 - accuracy: 0.9559\n",
      "Epoch 40/50\n",
      "124/124 [==============================] - 1s 7ms/step - loss: 0.1243 - accuracy: 0.9597\n",
      "Epoch 41/50\n",
      "124/124 [==============================] - 1s 7ms/step - loss: 0.1217 - accuracy: 0.9599\n",
      "Epoch 42/50\n",
      "124/124 [==============================] - 1s 7ms/step - loss: 0.1231 - accuracy: 0.9571\n",
      "Epoch 43/50\n",
      "124/124 [==============================] - 1s 7ms/step - loss: 0.1176 - accuracy: 0.9566\n",
      "Epoch 44/50\n",
      "124/124 [==============================] - 1s 7ms/step - loss: 0.1189 - accuracy: 0.9584\n",
      "Epoch 45/50\n",
      "124/124 [==============================] - 1s 7ms/step - loss: 0.1209 - accuracy: 0.9581\n",
      "Epoch 46/50\n",
      "124/124 [==============================] - 1s 7ms/step - loss: 0.1255 - accuracy: 0.9554\n",
      "Epoch 47/50\n",
      "124/124 [==============================] - 1s 7ms/step - loss: 0.1150 - accuracy: 0.9632\n",
      "Epoch 48/50\n",
      "124/124 [==============================] - 1s 7ms/step - loss: 0.1108 - accuracy: 0.9619\n",
      "Epoch 49/50\n",
      "124/124 [==============================] - 1s 7ms/step - loss: 0.1124 - accuracy: 0.9627\n",
      "Epoch 50/50\n",
      "124/124 [==============================] - 1s 7ms/step - loss: 0.1116 - accuracy: 0.9627\n"
     ]
    },
    {
     "data": {
      "text/plain": [
       "<keras.callbacks.History at 0x293538790>"
      ]
     },
     "execution_count": 30,
     "metadata": {},
     "output_type": "execute_result"
    }
   ],
   "source": [
    "# Compiling the model\n",
    "model.compile(optimizer='adam', loss='sparse_categorical_crossentropy', metrics=['accuracy'])\n",
    "\n",
    "# Training the model\n",
    "model.fit(X_train_scaled, y_train_res, epochs=50, batch_size=32, verbose=1)\n"
   ]
  },
  {
   "cell_type": "code",
   "execution_count": 32,
   "id": "b481e1f5",
   "metadata": {},
   "outputs": [
    {
     "name": "stdout",
     "output_type": "stream",
     "text": [
      "Training accuracy: 0.9677256941795349\n",
      "Test accuracy: 0.908450722694397\n"
     ]
    }
   ],
   "source": [
    "# Evaluating the model\n",
    "train_loss, train_acc = model.evaluate(X_train_scaled, y_train_res, verbose=0)\n",
    "test_loss, test_acc = model.evaluate(X_test_scaled, y_test, verbose=0)\n",
    "print(f'Training accuracy: {train_acc}')\n",
    "print(f'Test accuracy: {test_acc}')"
   ]
  },
  {
   "attachments": {},
   "cell_type": "markdown",
   "id": "83c21d40",
   "metadata": {},
   "source": [
    "## The deep learning model gives us the highest model accuracy. Next, we will try to change a deep learning model."
   ]
  },
  {
   "cell_type": "code",
   "execution_count": 33,
   "id": "6f9d260b",
   "metadata": {},
   "outputs": [],
   "source": [
    "from tensorflow.keras.layers import BatchNormalization\n",
    "\n",
    "# Creating a deeper model\n",
    "model = Sequential()\n",
    "model.add(Dense(128, activation='relu', input_shape=(X_train_scaled.shape[1],)))\n",
    "model.add(BatchNormalization())\n",
    "model.add(Dropout(0.5))\n",
    "\n",
    "model.add(Dense(64, activation='relu'))\n",
    "model.add(BatchNormalization())\n",
    "model.add(Dropout(0.5))\n",
    "\n",
    "model.add(Dense(32, activation='relu'))\n",
    "model.add(BatchNormalization())\n",
    "model.add(Dropout(0.5))\n",
    "\n",
    "model.add(Dense(16, activation='relu'))\n",
    "model.add(BatchNormalization())\n",
    "model.add(Dropout(0.5))\n",
    "\n",
    "model.add(Dense(3, activation='softmax'))  # 3 output classes"
   ]
  },
  {
   "cell_type": "code",
   "execution_count": 34,
   "id": "c8171bc0",
   "metadata": {},
   "outputs": [
    {
     "name": "stdout",
     "output_type": "stream",
     "text": [
      "Epoch 1/100\n",
      "124/124 [==============================] - 4s 23ms/step - loss: 1.1211 - accuracy: 0.5280\n",
      "Epoch 2/100\n",
      "124/124 [==============================] - 2s 20ms/step - loss: 0.7028 - accuracy: 0.7088\n",
      "Epoch 3/100\n",
      "124/124 [==============================] - 2s 19ms/step - loss: 0.5692 - accuracy: 0.7887\n",
      "Epoch 4/100\n",
      "124/124 [==============================] - 2s 19ms/step - loss: 0.4845 - accuracy: 0.8217\n",
      "Epoch 5/100\n",
      "124/124 [==============================] - 2s 19ms/step - loss: 0.4316 - accuracy: 0.8462\n",
      "Epoch 6/100\n",
      "124/124 [==============================] - 2s 19ms/step - loss: 0.3968 - accuracy: 0.8591\n",
      "Epoch 7/100\n",
      "124/124 [==============================] - 2s 18ms/step - loss: 0.3860 - accuracy: 0.8598\n",
      "Epoch 8/100\n",
      "124/124 [==============================] - 2s 19ms/step - loss: 0.3662 - accuracy: 0.8714\n",
      "Epoch 9/100\n",
      "124/124 [==============================] - 2s 18ms/step - loss: 0.3530 - accuracy: 0.8727\n",
      "Epoch 10/100\n",
      "124/124 [==============================] - 2s 18ms/step - loss: 0.3290 - accuracy: 0.8822\n",
      "Epoch 11/100\n",
      "124/124 [==============================] - 2s 18ms/step - loss: 0.3129 - accuracy: 0.8855\n",
      "Epoch 12/100\n",
      "124/124 [==============================] - 2s 18ms/step - loss: 0.2980 - accuracy: 0.8941\n",
      "Epoch 13/100\n",
      "124/124 [==============================] - 2s 18ms/step - loss: 0.3141 - accuracy: 0.8938\n",
      "Epoch 14/100\n",
      "124/124 [==============================] - 2s 18ms/step - loss: 0.2756 - accuracy: 0.9002\n",
      "Epoch 15/100\n",
      "124/124 [==============================] - 2s 18ms/step - loss: 0.2697 - accuracy: 0.9060\n",
      "Epoch 16/100\n",
      "124/124 [==============================] - 2s 18ms/step - loss: 0.2738 - accuracy: 0.8991\n",
      "Epoch 17/100\n",
      "124/124 [==============================] - 2s 19ms/step - loss: 0.2503 - accuracy: 0.9135\n",
      "Epoch 18/100\n",
      "124/124 [==============================] - 2s 18ms/step - loss: 0.2492 - accuracy: 0.9100\n",
      "Epoch 19/100\n",
      "124/124 [==============================] - 2s 18ms/step - loss: 0.2544 - accuracy: 0.9120\n",
      "Epoch 20/100\n",
      "124/124 [==============================] - 2s 18ms/step - loss: 0.2500 - accuracy: 0.9102\n",
      "Epoch 21/100\n",
      "124/124 [==============================] - 2s 18ms/step - loss: 0.2440 - accuracy: 0.9153\n",
      "Epoch 22/100\n",
      "124/124 [==============================] - 2s 18ms/step - loss: 0.2346 - accuracy: 0.9196\n",
      "Epoch 23/100\n",
      "124/124 [==============================] - 2s 18ms/step - loss: 0.2260 - accuracy: 0.9239\n",
      "Epoch 24/100\n",
      "124/124 [==============================] - 2s 18ms/step - loss: 0.2247 - accuracy: 0.9221\n",
      "Epoch 25/100\n",
      "124/124 [==============================] - 2s 18ms/step - loss: 0.2207 - accuracy: 0.9231\n",
      "Epoch 26/100\n",
      "124/124 [==============================] - 2s 18ms/step - loss: 0.2175 - accuracy: 0.9221\n",
      "Epoch 27/100\n",
      "124/124 [==============================] - 2s 19ms/step - loss: 0.2080 - accuracy: 0.9271\n",
      "Epoch 28/100\n",
      "124/124 [==============================] - 2s 20ms/step - loss: 0.1948 - accuracy: 0.9347\n",
      "Epoch 29/100\n",
      "124/124 [==============================] - 2s 20ms/step - loss: 0.2179 - accuracy: 0.9236\n",
      "Epoch 30/100\n",
      "124/124 [==============================] - 2s 19ms/step - loss: 0.2051 - accuracy: 0.9281\n",
      "Epoch 31/100\n",
      "124/124 [==============================] - 2s 18ms/step - loss: 0.2034 - accuracy: 0.9319\n",
      "Epoch 32/100\n",
      "124/124 [==============================] - 2s 18ms/step - loss: 0.2117 - accuracy: 0.9259\n",
      "Epoch 33/100\n",
      "124/124 [==============================] - 2s 18ms/step - loss: 0.1891 - accuracy: 0.9347\n",
      "Epoch 34/100\n",
      "124/124 [==============================] - 2s 18ms/step - loss: 0.2047 - accuracy: 0.9281\n",
      "Epoch 35/100\n",
      "124/124 [==============================] - 2s 18ms/step - loss: 0.1922 - accuracy: 0.9360\n",
      "Epoch 36/100\n",
      "124/124 [==============================] - 2s 18ms/step - loss: 0.2048 - accuracy: 0.9352\n",
      "Epoch 37/100\n",
      "124/124 [==============================] - 2s 18ms/step - loss: 0.1912 - accuracy: 0.9339\n",
      "Epoch 38/100\n",
      "124/124 [==============================] - 2s 18ms/step - loss: 0.1960 - accuracy: 0.9329\n",
      "Epoch 39/100\n",
      "124/124 [==============================] - 2s 18ms/step - loss: 0.1801 - accuracy: 0.9382\n",
      "Epoch 40/100\n",
      "124/124 [==============================] - 2s 18ms/step - loss: 0.1782 - accuracy: 0.9425\n",
      "Epoch 41/100\n",
      "124/124 [==============================] - 2s 18ms/step - loss: 0.1738 - accuracy: 0.9397\n",
      "Epoch 42/100\n",
      "124/124 [==============================] - 2s 18ms/step - loss: 0.1840 - accuracy: 0.9387\n",
      "Epoch 43/100\n",
      "124/124 [==============================] - 2s 18ms/step - loss: 0.1984 - accuracy: 0.9332\n",
      "Epoch 44/100\n",
      "124/124 [==============================] - 2s 18ms/step - loss: 0.1763 - accuracy: 0.9410\n",
      "Epoch 45/100\n",
      "124/124 [==============================] - 2s 18ms/step - loss: 0.1634 - accuracy: 0.9460\n",
      "Epoch 46/100\n",
      "124/124 [==============================] - 2s 18ms/step - loss: 0.1596 - accuracy: 0.9455\n",
      "Epoch 47/100\n",
      "124/124 [==============================] - 2s 18ms/step - loss: 0.1745 - accuracy: 0.9438\n",
      "Epoch 48/100\n",
      "124/124 [==============================] - 2s 18ms/step - loss: 0.1641 - accuracy: 0.9440\n",
      "Epoch 49/100\n",
      "124/124 [==============================] - 2s 18ms/step - loss: 0.1815 - accuracy: 0.9357\n",
      "Epoch 50/100\n",
      "124/124 [==============================] - 2s 18ms/step - loss: 0.1700 - accuracy: 0.9420\n",
      "Epoch 51/100\n",
      "124/124 [==============================] - 2s 18ms/step - loss: 0.1672 - accuracy: 0.9435\n",
      "Epoch 52/100\n",
      "124/124 [==============================] - 2s 18ms/step - loss: 0.1692 - accuracy: 0.9407\n",
      "Epoch 53/100\n",
      "124/124 [==============================] - 2s 18ms/step - loss: 0.1599 - accuracy: 0.9445\n",
      "Epoch 54/100\n",
      "124/124 [==============================] - 2s 18ms/step - loss: 0.1621 - accuracy: 0.9443\n",
      "Epoch 55/100\n",
      "124/124 [==============================] - 2s 18ms/step - loss: 0.1665 - accuracy: 0.9438\n",
      "Epoch 56/100\n",
      "124/124 [==============================] - 2s 18ms/step - loss: 0.1559 - accuracy: 0.9481\n",
      "Epoch 57/100\n",
      "124/124 [==============================] - 2s 18ms/step - loss: 0.1531 - accuracy: 0.9488\n",
      "Epoch 58/100\n",
      "124/124 [==============================] - 2s 18ms/step - loss: 0.1641 - accuracy: 0.9450\n",
      "Epoch 59/100\n",
      "124/124 [==============================] - 2s 18ms/step - loss: 0.1609 - accuracy: 0.9460\n",
      "Epoch 60/100\n",
      "124/124 [==============================] - 2s 18ms/step - loss: 0.1554 - accuracy: 0.9493\n",
      "Epoch 61/100\n",
      "124/124 [==============================] - 2s 18ms/step - loss: 0.1519 - accuracy: 0.9493\n",
      "Epoch 62/100\n",
      "124/124 [==============================] - 2s 18ms/step - loss: 0.1443 - accuracy: 0.9551\n",
      "Epoch 63/100\n",
      "124/124 [==============================] - 2s 18ms/step - loss: 0.1616 - accuracy: 0.9450\n",
      "Epoch 64/100\n",
      "124/124 [==============================] - 2s 18ms/step - loss: 0.1430 - accuracy: 0.9534\n",
      "Epoch 65/100\n",
      "124/124 [==============================] - 2s 18ms/step - loss: 0.1429 - accuracy: 0.9531\n",
      "Epoch 66/100\n",
      "124/124 [==============================] - 2s 18ms/step - loss: 0.1366 - accuracy: 0.9551\n",
      "Epoch 67/100\n",
      "124/124 [==============================] - 2s 18ms/step - loss: 0.1579 - accuracy: 0.9433\n",
      "Epoch 68/100\n",
      "124/124 [==============================] - 2s 18ms/step - loss: 0.1486 - accuracy: 0.9486\n",
      "Epoch 69/100\n",
      "124/124 [==============================] - 2s 18ms/step - loss: 0.1353 - accuracy: 0.9551\n",
      "Epoch 70/100\n",
      "124/124 [==============================] - 2s 18ms/step - loss: 0.1460 - accuracy: 0.9498\n",
      "Epoch 71/100\n",
      "124/124 [==============================] - 2s 18ms/step - loss: 0.1624 - accuracy: 0.9463\n",
      "Epoch 72/100\n",
      "124/124 [==============================] - 2s 18ms/step - loss: 0.1294 - accuracy: 0.9579\n",
      "Epoch 73/100\n",
      "124/124 [==============================] - 2s 18ms/step - loss: 0.1412 - accuracy: 0.9523\n",
      "Epoch 74/100\n",
      "124/124 [==============================] - 2s 18ms/step - loss: 0.1472 - accuracy: 0.9521\n",
      "Epoch 75/100\n",
      "124/124 [==============================] - 2s 18ms/step - loss: 0.1334 - accuracy: 0.9561\n",
      "Epoch 76/100\n",
      "124/124 [==============================] - 2s 18ms/step - loss: 0.1385 - accuracy: 0.9526\n",
      "Epoch 77/100\n",
      "124/124 [==============================] - 2s 18ms/step - loss: 0.1319 - accuracy: 0.9534\n",
      "Epoch 78/100\n",
      "124/124 [==============================] - 2s 18ms/step - loss: 0.1311 - accuracy: 0.9566\n",
      "Epoch 79/100\n",
      "124/124 [==============================] - 2s 18ms/step - loss: 0.1327 - accuracy: 0.9576\n",
      "Epoch 80/100\n",
      "124/124 [==============================] - 2s 18ms/step - loss: 0.1373 - accuracy: 0.9498\n",
      "Epoch 81/100\n",
      "124/124 [==============================] - 2s 18ms/step - loss: 0.1314 - accuracy: 0.9574\n",
      "Epoch 82/100\n",
      "124/124 [==============================] - 2s 18ms/step - loss: 0.1459 - accuracy: 0.9503\n",
      "Epoch 83/100\n",
      "124/124 [==============================] - 2s 18ms/step - loss: 0.1243 - accuracy: 0.9589\n",
      "Epoch 84/100\n",
      "124/124 [==============================] - 2s 18ms/step - loss: 0.1396 - accuracy: 0.9559\n",
      "Epoch 85/100\n",
      "124/124 [==============================] - 2s 18ms/step - loss: 0.1306 - accuracy: 0.9566\n",
      "Epoch 86/100\n",
      "124/124 [==============================] - 2s 18ms/step - loss: 0.1260 - accuracy: 0.9594\n",
      "Epoch 87/100\n",
      "124/124 [==============================] - 2s 18ms/step - loss: 0.1262 - accuracy: 0.9602\n",
      "Epoch 88/100\n",
      "124/124 [==============================] - 2s 18ms/step - loss: 0.1267 - accuracy: 0.9559\n",
      "Epoch 89/100\n",
      "124/124 [==============================] - 2s 18ms/step - loss: 0.1332 - accuracy: 0.9539\n",
      "Epoch 90/100\n",
      "124/124 [==============================] - 2s 18ms/step - loss: 0.1254 - accuracy: 0.9559\n",
      "Epoch 91/100\n",
      "124/124 [==============================] - 2s 19ms/step - loss: 0.1233 - accuracy: 0.9581\n",
      "Epoch 92/100\n",
      "124/124 [==============================] - 2s 19ms/step - loss: 0.1261 - accuracy: 0.9564\n",
      "Epoch 93/100\n",
      "124/124 [==============================] - 2s 18ms/step - loss: 0.1137 - accuracy: 0.9614\n",
      "Epoch 94/100\n",
      "124/124 [==============================] - 2s 18ms/step - loss: 0.1214 - accuracy: 0.9599\n",
      "Epoch 95/100\n",
      "124/124 [==============================] - 2s 18ms/step - loss: 0.1346 - accuracy: 0.9536\n",
      "Epoch 96/100\n",
      "124/124 [==============================] - 2s 18ms/step - loss: 0.1191 - accuracy: 0.9597\n",
      "Epoch 97/100\n",
      "124/124 [==============================] - 2s 18ms/step - loss: 0.1237 - accuracy: 0.9579\n",
      "Epoch 98/100\n",
      "124/124 [==============================] - 2s 18ms/step - loss: 0.1113 - accuracy: 0.9614\n",
      "Epoch 99/100\n",
      "124/124 [==============================] - 2s 18ms/step - loss: 0.1277 - accuracy: 0.9551\n",
      "Epoch 100/100\n",
      "124/124 [==============================] - 2s 18ms/step - loss: 0.1267 - accuracy: 0.9544\n"
     ]
    },
    {
     "data": {
      "text/plain": [
       "<keras.callbacks.History at 0x2e9c8eb80>"
      ]
     },
     "execution_count": 34,
     "metadata": {},
     "output_type": "execute_result"
    }
   ],
   "source": [
    "# Compiling the model\n",
    "model.compile(optimizer='adam', loss='sparse_categorical_crossentropy', metrics=['accuracy'])\n",
    "\n",
    "# Training the model\n",
    "model.fit(X_train_scaled, y_train_res, epochs=100, batch_size=32, verbose=1)\n"
   ]
  },
  {
   "cell_type": "code",
   "execution_count": 35,
   "id": "b6954088",
   "metadata": {},
   "outputs": [
    {
     "name": "stdout",
     "output_type": "stream",
     "text": [
      "Training accuracy: 0.9798285365104675\n",
      "Test accuracy: 0.9178403615951538\n"
     ]
    }
   ],
   "source": [
    "# Evaluating the model\n",
    "train_loss, train_acc = model.evaluate(X_train_scaled, y_train_res, verbose=0)\n",
    "test_loss, test_acc = model.evaluate(X_test_scaled, y_test, verbose=0)\n",
    "print(f'Training accuracy: {train_acc}')\n",
    "print(f'Test accuracy: {test_acc}')"
   ]
  },
  {
   "attachments": {},
   "cell_type": "markdown",
   "id": "7eced2db",
   "metadata": {},
   "source": [
    "## EDA"
   ]
  },
  {
   "cell_type": "code",
   "execution_count": 36,
   "id": "cd6988d4",
   "metadata": {},
   "outputs": [],
   "source": [
    "# LOAD Packages\n",
    "import matplotlib.pyplot as plt\n",
    "import seaborn as sns\n",
    "from sklearn.metrics import confusion_matrix\n"
   ]
  },
  {
   "cell_type": "code",
   "execution_count": 37,
   "id": "12e05b24",
   "metadata": {},
   "outputs": [
    {
     "name": "stdout",
     "output_type": "stream",
     "text": [
      "14/14 [==============================] - 0s 8ms/step\n"
     ]
    }
   ],
   "source": [
    "# Predicting on the test dataset\n",
    "y_pred = np.argmax(model.predict(X_test_scaled), axis=-1)\n"
   ]
  },
  {
   "cell_type": "code",
   "execution_count": 38,
   "id": "7f092ffd",
   "metadata": {},
   "outputs": [],
   "source": [
    "\n",
    "# Create a confusion matrix\n",
    "cm = confusion_matrix(y_test, y_pred)"
   ]
  },
  {
   "cell_type": "code",
   "execution_count": 39,
   "id": "f7ab57fd",
   "metadata": {},
   "outputs": [
    {
     "data": {
      "text/plain": [
       "array([[307,  25,   1],\n",
       "       [  5,  57,   2],\n",
       "       [  0,   2,  27]])"
      ]
     },
     "execution_count": 39,
     "metadata": {},
     "output_type": "execute_result"
    }
   ],
   "source": [
    "cm"
   ]
  },
  {
   "cell_type": "code",
   "execution_count": 40,
   "id": "6071d219",
   "metadata": {},
   "outputs": [
    {
     "data": {
      "image/png": "[encoded data removed]",
      "text/plain": [
       "<Figure size 800x600 with 2 Axes>"
      ]
     },
     "metadata": {},
     "output_type": "display_data"
    }
   ],
   "source": [
    "# Visualize the confusion matrix using a heatmap\n",
    "plt.figure(figsize=(8, 6))\n",
    "sns.heatmap(cm, annot=True, fmt='d', cmap='Blues', xticklabels=encoder.classes_, yticklabels=encoder.classes_)\n",
    "plt.xlabel('Predicted')\n",
    "plt.ylabel('True')\n",
    "plt.title('Confusion Matrix')\n",
    "plt.show()"
   ]
  },
  {
   "cell_type": "code",
   "execution_count": 42,
   "id": "7f13eb45",
   "metadata": {},
   "outputs": [
    {
     "data": {
      "image/png": "[encoded data removed]",
      "text/plain": [
       "<Figure size 1200x600 with 2 Axes>"
      ]
     },
     "metadata": {},
     "output_type": "display_data"
    }
   ],
   "source": [
    "# Compare the distributions of predicted and actual values\n",
    "plt.figure(figsize=(12, 6))\n",
    "plt.subplot(1, 2, 1)\n",
    "sns.countplot(x=y_test)\n",
    "plt.title('True Fetal Health Distribution')\n",
    "plt.xlabel('Fetal Health')\n",
    "plt.xticks(ticks=range(3), labels=encoder.classes_)\n",
    "\n",
    "plt.subplot(1, 2, 2)\n",
    "sns.countplot(x=y_pred)\n",
    "plt.title('Predicted Fetal Health Distribution')\n",
    "plt.xlabel('Fetal Health')\n",
    "plt.xticks(ticks=range(3), labels=encoder.classes_)\n",
    "\n",
    "plt.show()\n"
   ]
  },
  {
   "attachments": {},
   "cell_type": "markdown",
   "id": "ec1feafd",
   "metadata": {},
   "source": [
    "## To improve the complexity of the deep learning model, but the accuracy of the improvement is not very high, I think the model has been quite good."
   ]
  }
 ],
 "metadata": {
  "kernelspec": {
   "display_name": "Python 3 (ipykernel)",
   "language": "python",
   "name": "python3"
  },
  "language_info": {
   "codemirror_mode": {
    "name": "ipython",
    "version": 3
   },
   "file_extension": ".py",
   "mimetype": "text/x-python",
   "name": "python",
   "nbconvert_exporter": "python",
   "pygments_lexer": "ipython3",
   "version": "3.9.16"
  }
 },
 "nbformat": 4,
 "nbformat_minor": 5
}
